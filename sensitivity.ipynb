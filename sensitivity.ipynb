{
 "cells": [
  {
   "cell_type": "code",
   "execution_count": 1,
   "metadata": {},
   "outputs": [],
   "source": [
    "import pandas as pd\n",
    "import numpy as np\n",
    "import os\n",
    "import matplotlib.pyplot as plt"
   ]
  },
  {
   "cell_type": "code",
   "execution_count": 32,
   "metadata": {},
   "outputs": [],
   "source": [
    "def sensitivityPlot(EXP, data_type, forecasting_horizon):\n",
    "    best = pd.DataFrame(columns = ('data_type', 'forecasting_horizon', 'normalization', 'traj',\n",
    "                                   'seq_len', 'img_size', 'trial_no', 'epoch', \n",
    "                                   'val_mape', 'val_mae', 'val_rmse', 'test_mape', 'test_mae', 'test_rmse', 'train_time'))\n",
    "    \n",
    "    i = 0\n",
    "    \n",
    "    for EXP_NO in EXP:\n",
    "        log_files = os.listdir('log/' + EXP_NO + '/')\n",
    "        all_logs = [files for files in log_files]\n",
    "\n",
    "        for dataType in data_type:\n",
    "            EXP = str(forecasting_horizon) + 'hours_dataType' + str(dataType)\n",
    "            print len([f for f in all_logs if f.startswith(EXP)])\n",
    "            for f in [f for f in all_logs if f.startswith(EXP)]:\n",
    "                log_result = pd.read_csv('log/' + EXP_NO + '/' + f, index_col=0)\n",
    "\n",
    "                if 'img0' in f.split('_'):\n",
    "                    img_size = 0\n",
    "                elif 'img3' in f.split('_'):\n",
    "                    img_size = 3\n",
    "                elif 'img11' in f.split('_'):\n",
    "                    img_size = 11\n",
    "                elif 'img21' in f.split('_'):\n",
    "                    img_size = 21\n",
    "                elif 'img41' in f.split('_'):\n",
    "                    img_size = 41\n",
    "\n",
    "                if 'seq6' in f.split('_'):\n",
    "                    seq_len = 6\n",
    "                elif 'seq12' in f.split('_'):\n",
    "                    seq_len = 12\n",
    "                elif 'seq24' in f.split('_'):\n",
    "                    seq_len = 24\n",
    "                    \n",
    "                \n",
    "                if 'normalization0' in f.split('_'):\n",
    "                    norm = 'simple_const'\n",
    "                elif ('normalization1' in f.split('_')) & ('clipped' in f.split('_')):\n",
    "                    norm = 'spdLimit_1_clipped'\n",
    "                elif 'normalization1' in f.split('_'):\n",
    "                    norm = 'spdLimit_1'\n",
    "                elif ('normalization2' in f.split('_')) & ('clipped' in f.split('_')):\n",
    "                    norm = 'spdLimit_2_clipped'    \n",
    "                elif 'normalization2' in f.split('_'):\n",
    "                    norm = 'spdLimit_2'\n",
    "                elif 'normalizationraw' in f.split('_'):\n",
    "                    norm = 'raw'\n",
    "                        \n",
    "                if 'trajall' in f.split('_'):\n",
    "                    traj = 'all'\n",
    "                else:\n",
    "                    traj = 'known'\n",
    "                    \n",
    "                best.loc[i] = [dataType, forecasting_horizon, \n",
    "                               norm, traj, seq_len, img_size, 0] + log_result.loc[log_result['val_mape'].idxmin()].values.tolist()\n",
    "\n",
    "                i += 1\n",
    "                \n",
    "    result = best.loc[best.groupby(['data_type', 'forecasting_horizon', 'normalization', 'traj', 'img_size', \n",
    "                                    'seq_len'])['val_mape'].idxmin()][['data_type', \n",
    "                                                                       'forecasting_horizon', 'normalization', 'traj', \n",
    "                                                                       'seq_len', 'img_size', 'epoch', \n",
    "                                                                       'test_rmse', 'test_mae', 'test_mape']].reset_index()\n",
    "    \n",
    "    conditions_1 = [(result['normalization'] == 'raw'), (result['normalization'] == 'simple_const'),\n",
    "                   (result['normalization'] == 'spdLimit_1'), (result['normalization'] == 'spdLimit_1_clipped'),\n",
    "                   (result['normalization'] == 'spdLimit_2'), (result['normalization'] == 'spdLimit_2_clipped')]\n",
    "    conditions_2 = [(result['traj'] == 'all'), (result['traj'] == 'known')]\n",
    "    choices_1 = [0, 1, 2, 3, 4, 5]\n",
    "    choices_2 = [0, 1]\n",
    "    \n",
    "    result['norm_idx'] = np.select(conditions_1, choices_1, default=9)\n",
    "    result['traj_idx'] = np.select(conditions_2, choices_2, default=9)    \n",
    "    \n",
    "    p = np.zeros([2, 6], dtype=float)\n",
    "    for i in range(result.shape[0]):\n",
    "        p[result['traj_idx'].values[i], result['norm_idx'].values[i]] += result['test_mape'].values[i]\n",
    "    \n",
    "    plt.figure(figsize=(10, 10))\n",
    "    plt.imshow(p)\n",
    "    plt.colorbar()\n",
    "    plt.xticks([0, 1, 2, 3, 4, 5])\n",
    "    plt.yticks([0, 1])\n",
    "    plt.title('(X)Normalization: Raw, Const_max, SLM1, SLM1+c, SLM2, SLM2+c \\n (Y)Coord: All, Known')\n",
    "#     plt.title('Sensitivity \\n (data_type: %i, forecasting_horizon: %i, metric: testMAPE)' %(data_type[0], forecasting_horizon))\n",
    "    plt.legend(loc='best')\n",
    "    plt.show()\n",
    "    \n",
    "    return p"
   ]
  },
  {
   "cell_type": "code",
   "execution_count": 39,
   "metadata": {},
   "outputs": [
    {
     "name": "stdout",
     "output_type": "stream",
     "text": [
      "12\n"
     ]
    },
    {
     "data": {
      "image/png": "[encoded data removed]",
      "text/plain": [
       "<Figure size 720x720 with 2 Axes>"
      ]
     },
     "metadata": {},
     "output_type": "display_data"
    },
    {
     "data": {
      "text/plain": [
       "array([[0.10552369, 0.56343241, 0.15413321, 0.15232581, 0.47137366,\n",
       "        0.4714504 ],\n",
       "       [0.10553811, 0.56343215, 0.15413303, 0.152328  , 0.47137323,\n",
       "        0.47145003]])"
      ]
     },
     "execution_count": 39,
     "metadata": {},
     "output_type": "execute_result"
    }
   ],
   "source": [
    "sensitivityPlot(['lstm_20'], [20], 1)"
   ]
  },
  {
   "cell_type": "code",
   "execution_count": null,
   "metadata": {},
   "outputs": [],
   "source": []
  },
  {
   "cell_type": "code",
   "execution_count": null,
   "metadata": {},
   "outputs": [],
   "source": []
  },
  {
   "cell_type": "code",
   "execution_count": null,
   "metadata": {},
   "outputs": [],
   "source": []
  }
 ],
 "metadata": {
  "kernelspec": {
   "display_name": "Python 2",
   "language": "python",
   "name": "python2"
  },
  "language_info": {
   "codemirror_mode": {
    "name": "ipython",
    "version": 2
   },
   "file_extension": ".py",
   "mimetype": "text/x-python",
   "name": "python",
   "nbconvert_exporter": "python",
   "pygments_lexer": "ipython2",
   "version": "2.7.15"
  }
 },
 "nbformat": 4,
 "nbformat_minor": 1
}
